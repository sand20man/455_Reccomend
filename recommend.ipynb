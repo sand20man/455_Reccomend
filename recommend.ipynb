{
 "cells": [
  {
   "cell_type": "code",
   "execution_count": 1,
   "metadata": {},
   "outputs": [
    {
     "data": {
      "application/vnd.microsoft.datawrangler.viewer.v0+json": {
       "columns": [
        {
         "name": "index",
         "rawType": "int64",
         "type": "integer"
        },
        {
         "name": "timestamp",
         "rawType": "int64",
         "type": "integer"
        },
        {
         "name": "eventType",
         "rawType": "object",
         "type": "string"
        },
        {
         "name": "contentId",
         "rawType": "int64",
         "type": "integer"
        },
        {
         "name": "authorPersonId",
         "rawType": "int64",
         "type": "integer"
        },
        {
         "name": "authorSessionId",
         "rawType": "int64",
         "type": "integer"
        },
        {
         "name": "authorUserAgent",
         "rawType": "object",
         "type": "unknown"
        },
        {
         "name": "authorRegion",
         "rawType": "object",
         "type": "unknown"
        },
        {
         "name": "authorCountry",
         "rawType": "object",
         "type": "unknown"
        },
        {
         "name": "contentType",
         "rawType": "object",
         "type": "string"
        },
        {
         "name": "url",
         "rawType": "object",
         "type": "string"
        },
        {
         "name": "title",
         "rawType": "object",
         "type": "string"
        },
        {
         "name": "text",
         "rawType": "object",
         "type": "string"
        },
        {
         "name": "lang",
         "rawType": "object",
         "type": "string"
        }
       ],
       "conversionMethod": "pd.DataFrame",
       "ref": "3f235fae-1990-4486-b7bc-d461b139b5cc",
       "rows": [
        [
         "0",
         "1459192779",
         "CONTENT REMOVED",
         "-6451309518266745024",
         "4340306774493623681",
         "8940341205206233829",
         null,
         null,
         null,
         "HTML",
         "http://www.nytimes.com/2016/03/28/business/dealbook/ethereum-a-virtual-currency-enables-transactions-that-rival-bitcoins.html",
         "Ethereum, a Virtual Currency, Enables Transactions That Rival Bitcoin's",
         "All of this work is still very early. The first full public version of the Ethereum software was recently released, and the system could face some of the same technical and legal problems that have tarnished Bitcoin. Many Bitcoin advocates say Ethereum will face more security problems than Bitcoin because of the greater complexity of the software. Thus far, Ethereum has faced much less testing, and many fewer attacks, than Bitcoin. The novel design of Ethereum may also invite intense scrutiny by authorities given that potentially fraudulent contracts, like the Ponzi schemes, can be written directly into the Ethereum system. But the sophisticated capabilities of the system have made it fascinating to some executives in corporate America. IBM said last year that it was experimenting with Ethereum as a way to control real world objects in the so-called Internet of things. Microsoft has been working on several projects that make it easier to use Ethereum on its computing cloud, Azure. \"Ethereum is a general platform where you can solve problems in many industries using a fairly elegant solution - the most elegant solution we have seen to date,\" said Marley Gray, a director of business development and strategy at Microsoft. Mr. Gray is responsible for Microsoft's work with blockchains, the database concept that Bitcoin introduced. Blockchains are designed to store transactions and data without requiring any central authority or repository. Blockchain ledgers are generally maintained and updated by networks of computers working together - somewhat similar to the way that Wikipedia is updated and maintained by all its users. Many corporations, though, have created their own Ethereum networks with private blockchains, independent of the public system, and that could ultimately detract from the value of the individual unit in the Ethereum system - known as an Ether - that people have recently been buying. The interest in Ethereum is one sign of the corporate fascination with blockchains. Most major banks have expressed an interest in using them to make trading and money transfer faster and more efficient. On Tuesday, executives from the largest banks will gather for a conference, \"Blockchain: Tapping I nto the Real Potential , Cutting Through the Hype.\" Many of these banks have recently been looking at how some version of Ethereum might be put to use. JPMorgan, for instance, has created a specific tool, Masala, that allows some of its internal databases to interact with an Ethereum blockchain. Michael Novogratz, a former top executive at the private equity firm Fortress Investing Group, who helped lead Fortress's investment in Bitcoin, has been looking at Ethereum since he left Fortress last fall. Mr. Novogratz said that he made a \"significant\" purchase of Ether in January. He has also heard how the financial industry's chatter about the virtual currency has evolved. \"A lot of the more established players were thinking, 'It's still an experiment,' \" he said. \"It feels like in the last two to three months that experiment is at least getting a lot more validation.\" Since the beginning of the year, the value of an individual unit of Ether has soared as high as $12 from around $1. That has brought the value of all existing Ether to over $1 billion at times, significantly more than any virtual currency other than Bitcoin, which had over $6 billion in value outstanding last week. Since Bitcoin was invented, there have been many so-called alt-coins that have tried to improve on Bitcoin, but none have won the following of Ethereum. Unlike Bitcoin, which was released in 2009 by a mysterious creator known as Satoshi Nakamoto, Ethereum was created in a more transparent fashion by a 21-year-old Russian-Canadian, Vitalik Buterin, after he dropped out of Waterloo University in Ontario. The most basic aim of Ethereum was to make it possible to program binding agreements into the blockchain - the smart contract concept. Two people, for instance, could program a bet on a sports game directly into the Ethereum blockchain. Once the final score came in from a mutually agreed upon source - say, The Associated Press - the money would be automatically transferred to the winning party. Ether can be used as a currency in this system, but Ether are also necessary to pay for the network power needed to process the bet. The Ethereum system has sometimes been described as a single shared computer that is run by the network of users and on which resources are parceled out and paid for by Ether. A team of seven co-founders helped Mr. Buterin write up the software after he released the initial description of the system. Mr. Buterin's team raised $18 million in 2014 through a presale of Ether, which helped fund the Ethereum Foundation, which supports the software's development. Like Bitcoin, Ethereum has succeeded by attracting a dedicated network of followers who have helped support the software, partly in the hope that their Ether will increase in value if the system succeeds. Last week, there were 5,800 computers - or nodes - helping support the network around the world. The Bitcoin network had about 7,400 nodes. One of Mr. Buterin's co-founders, Joseph Lubin, has set up ConsenSys, a company based in Brooklyn that has hired over 50 developers to build applications on the Ethereum system, including one that enables music distribution and another that allows for a new kind of financial auditing. The ConsenSys offices are in an old industrial building in the Bushwick section of Brooklyn. The office is essentially one large room, with all the messy trademarks of a start-up operation, including white boards on the walls and computer parts lying around. Mr. Lubin said he had thrown himself into Ethereum after starting to think that it delivered on some of the failed promise of Bitcoin, especially when it came to allowing new kinds of online contracts and markets. \"Bitcoin presented the broad strokes vision, and Ethereum presented the crystallization of how to deliver that vision,\" he said. Joseph Bonneau, a computer science researcher at Stanford who studies so-called crypto-currencies, said Ethereum was the first system that had really caught his interest since Bitcoin. It is far from a sure thing, he cautioned. \"Bitcoin is still probably the safest bet, but Ethereum is certainly No. 2, and some folks will say it is more likely to be around in 10 years,\" Mr. Bonneau said. \"It will depend if any real markets develop around it. If there is some actual application.\"",
         "en"
        ],
        [
         "1",
         "1459193988",
         "CONTENT SHARED",
         "-4110354420726924665",
         "4340306774493623681",
         "8940341205206233829",
         null,
         null,
         null,
         "HTML",
         "http://www.nytimes.com/2016/03/28/business/dealbook/ethereum-a-virtual-currency-enables-transactions-that-rival-bitcoins.html",
         "Ethereum, a Virtual Currency, Enables Transactions That Rival Bitcoin's",
         "All of this work is still very early. The first full public version of the Ethereum software was recently released, and the system could face some of the same technical and legal problems that have tarnished Bitcoin. Many Bitcoin advocates say Ethereum will face more security problems than Bitcoin because of the greater complexity of the software. Thus far, Ethereum has faced much less testing, and many fewer attacks, than Bitcoin. The novel design of Ethereum may also invite intense scrutiny by authorities given that potentially fraudulent contracts, like the Ponzi schemes, can be written directly into the Ethereum system. But the sophisticated capabilities of the system have made it fascinating to some executives in corporate America. IBM said last year that it was experimenting with Ethereum as a way to control real world objects in the so-called Internet of things. Microsoft has been working on several projects that make it easier to use Ethereum on its computing cloud, Azure. \"Ethereum is a general platform where you can solve problems in many industries using a fairly elegant solution - the most elegant solution we have seen to date,\" said Marley Gray, a director of business development and strategy at Microsoft. Mr. Gray is responsible for Microsoft's work with blockchains, the database concept that Bitcoin introduced. Blockchains are designed to store transactions and data without requiring any central authority or repository. Blockchain ledgers are generally maintained and updated by networks of computers working together - somewhat similar to the way that Wikipedia is updated and maintained by all its users. Many corporations, though, have created their own Ethereum networks with private blockchains, independent of the public system, and that could ultimately detract from the value of the individual unit in the Ethereum system - known as an Ether - that people have recently been buying. The interest in Ethereum is one sign of the corporate fascination with blockchains. Most major banks have expressed an interest in using them to make trading and money transfer faster and more efficient. On Tuesday, executives from the largest banks will gather for a conference, \"Blockchain: Tapping I nto the Real Potential , Cutting Through the Hype.\" Many of these banks have recently been looking at how some version of Ethereum might be put to use. JPMorgan, for instance, has created a specific tool, Masala, that allows some of its internal databases to interact with an Ethereum blockchain. Michael Novogratz, a former top executive at the private equity firm Fortress Investing Group, who helped lead Fortress's investment in Bitcoin, has been looking at Ethereum since he left Fortress last fall. Mr. Novogratz said that he made a \"significant\" purchase of Ether in January. He has also heard how the financial industry's chatter about the virtual currency has evolved. \"A lot of the more established players were thinking, 'It's still an experiment,' \" he said. \"It feels like in the last two to three months that experiment is at least getting a lot more validation.\" Since the beginning of the year, the value of an individual unit of Ether has soared as high as $12 from around $1. That has brought the value of all existing Ether to over $1 billion at times, significantly more than any virtual currency other than Bitcoin, which had over $6 billion in value outstanding last week. Since Bitcoin was invented, there have been many so-called alt-coins that have tried to improve on Bitcoin, but none have won the following of Ethereum. Unlike Bitcoin, which was released in 2009 by a mysterious creator known as Satoshi Nakamoto, Ethereum was created in a more transparent fashion by a 21-year-old Russian-Canadian, Vitalik Buterin, after he dropped out of Waterloo University in Ontario. The most basic aim of Ethereum was to make it possible to program binding agreements into the blockchain - the smart contract concept. Two people, for instance, could program a bet on a sports game directly into the Ethereum blockchain. Once the final score came in from a mutually agreed upon source - say, The Associated Press - the money would be automatically transferred to the winning party. Ether can be used as a currency in this system, but Ether are also necessary to pay for the network power needed to process the bet. The Ethereum system has sometimes been described as a single shared computer that is run by the network of users and on which resources are parceled out and paid for by Ether. A team of seven co-founders helped Mr. Buterin write up the software after he released the initial description of the system. Mr. Buterin's team raised $18 million in 2014 through a presale of Ether, which helped fund the Ethereum Foundation, which supports the software's development. Like Bitcoin, Ethereum has succeeded by attracting a dedicated network of followers who have helped support the software, partly in the hope that their Ether will increase in value if the system succeeds. Last week, there were 5,800 computers - or nodes - helping support the network around the world. The Bitcoin network had about 7,400 nodes. One of Mr. Buterin's co-founders, Joseph Lubin, has set up ConsenSys, a company based in Brooklyn that has hired over 50 developers to build applications on the Ethereum system, including one that enables music distribution and another that allows for a new kind of financial auditing. The ConsenSys offices are in an old industrial building in the Bushwick section of Brooklyn. The office is essentially one large room, with all the messy trademarks of a start-up operation, including white boards on the walls and computer parts lying around. Mr. Lubin said he had thrown himself into Ethereum after starting to think that it delivered on some of the failed promise of Bitcoin, especially when it came to allowing new kinds of online contracts and markets. \"Bitcoin presented the broad strokes vision, and Ethereum presented the crystallization of how to deliver that vision,\" he said. Joseph Bonneau, a computer science researcher at Stanford who studies so-called crypto-currencies, said Ethereum was the first system that had really caught his interest since Bitcoin. It is far from a sure thing, he cautioned. \"Bitcoin is still probably the safest bet, but Ethereum is certainly No. 2, and some folks will say it is more likely to be around in 10 years,\" Mr. Bonneau said. \"It will depend if any real markets develop around it. If there is some actual application.\"",
         "en"
        ],
        [
         "2",
         "1459194146",
         "CONTENT SHARED",
         "-7292285110016212249",
         "4340306774493623681",
         "8940341205206233829",
         null,
         null,
         null,
         "HTML",
         "http://cointelegraph.com/news/bitcoin-future-when-gbpcoin-of-branson-wins-over-usdcoin-of-trump",
         "Bitcoin Future: When GBPcoin of Branson Wins Over USDcoin of Trump",
         "The alarm clock wakes me at 8:00 with stream of advert-free broadcasting, charged at one satoshi per second. The current BTC exchange rate makes that snooze button a costly proposition! So I get up, make coffee and go to my computer to check the overnight performance of my bots. TradeBot earns me on Trump and Branson TradeBot, which allocates funds between the main chain and various national currency side-chains, generated a lucrative 0.24 BTC return. TradeBot has been reliably profitable ever since I set it to trade USDcoin according to political prediction market data. As expected, the latest poll numbers came in as highly supportive of Trump's re-election as USDcoin CEO. Trump's resistance to de-anonymizing public spending, by moving USDcoin off the Confidential Transactions layer, continues to erode his coin's credibility. In his latest speech, Trump maintains that full CT-privacy is essential to \"combatting CNYcoin's sinister ring-signature scheming.\" I make a note to increase my long position in GBPcoin. Following CEO Branson's memo to the effect that government finances and national banks be brought into compliance with the public blockchain , British corruption indices have flatlined. As the first national econmy to \"go light,\" Britain leads the global recovery from the Great Debt Default of '20. Happy with the GoatData Project I check TeachBot and note that it's performing in-line with expectations. TeachBot serves as an autonomous info-agent between various contracting AIs and data providers. The 0.5 BTC bounty it awarded to a team of Sherpas to outfit a herd of Tibetan mountain goats with full motion-sensing rigs has already been repaid...I check the latest figures... four times over! My best TeachBot strategy to date, the GoatData project provides valuable data to WinterHoof, the Artificial General Intelligence in charge of the Swiss military's quadripedal robotics program. At this rate, I'll soon have enough BTC to retire to Satoshi City on Mars!",
         "en"
        ],
        [
         "3",
         "1459194474",
         "CONTENT SHARED",
         "-6151852268067518688",
         "3891637997717104548",
         "-1457532940883382585",
         null,
         null,
         null,
         "HTML",
         "https://cloudplatform.googleblog.com/2016/03/Google-Data-Center-360-Tour.html",
         "Google Data Center 360° Tour",
         "We're excited to share the Google Data Center 360° Tour - a YouTube 360° video that gives you an unprecedented and immersive look inside one of our data centers. There are several ways to view this video: On desktop using Google Chrome use your mouse or trackpad to change your view while the video plays YouTube app on mobile - move your device around to look at all angles while the video plays And the most immersive way to view - using Google Cardboard (currently supported by the Android YouTube app only, iOS support is coming soon!) Load the video in the YouTube app and tap on the Cardboard icon when the video starts to play. Insert your phone in Cardboard and look around. A little background . . . Several months ago, those of us on the Google Cloud Developer Advocacy Team had a rare opportunity to tour the Google data center in The Dalles, Oregon. Many of us had seen other non-Google data centers in our careers, but this experience was beyond anything we ever imagined. We were blown away by the scale, the incredible attention to security and privacy, and the amazing efforts to make the data center extremely efficient and green. Additionally, we were proud to meet some of the brilliant people that design, build and maintain these data centers. If you are a Google Cloud Platform customer, then this is your data center as much as it is our data center, so we want you to experience what we experienced. We hope you enjoy it! - Posted by Greg Wilson, Head of Developer Advocacy, Google Cloud Platform",
         "en"
        ],
        [
         "4",
         "1459194497",
         "CONTENT SHARED",
         "2448026894306402386",
         "4340306774493623681",
         "8940341205206233829",
         null,
         null,
         null,
         "HTML",
         "https://bitcoinmagazine.com/articles/ibm-wants-to-evolve-the-internet-with-blockchain-technology-1459189322",
         "IBM Wants to \"Evolve the Internet\" With Blockchain Technology",
         "The Aite Group projects the blockchain market could be valued at $400 million by 2019. For that reason, some of the biggest names in banking, industry and technology have entered into the space to evaluate how this technology could change the financial world. IBM and Linux, for instance, have brought together some of the brightest minds in the industry and technology to work on blockchain technology through the Hyperledger Project. The Hyperledger Project is under the umbrella of the Linux Foundation, and seeks to incorporate findings by blockchain projects such as Blockstream, Ripple, Digital Asset Holdings and others in order to make blockchain technology useful for the world's biggest corporations. IBM has also contributed its own code to the project. According to John Wolpert, IBM's Global Blockchain Offering Director, when IBM and Linux began working together on the blockchain project, Linux made clear it wanted to \"disrupt the disruption,\" in part with their findings, as well as the data gathered by projects such as Ripple, Ethereum and others exploring the blockchain. The Linux foundation announced its Hyperledger project on December 17, 2015. Just one day later, 2,300 companies had requested to join. The second-largest open source foundation in the history of open source had only 450 inquiries. \"So, it's either going to be a holy mess or it's going to change the world,\" Wolpert said at The Blockchain Conference in San Francisco presented by Lighthouse Partners. As Wolford puts it, a team of IBMers is \"on a quest\" to understand and \"do something important\" with blockchain technology. \"I don't know why we got this rap in the '70s, way back, that we are not cool, that we're kind of stodgy, and that is not the IBM of my experience,\" Wolpert, who founded the taxi service Flywheel, explained. \"We're the original crazy people. The craziest people are the guys at IBM in the '60s and '70s -- you can imagine what they were doing in the '60s -- they are wild-eyed revolutionaries.\" Although this is not the image IBM markets, their work in quantum computing, quantum teleportation and neuro semantic chips count among some of the \"cool stuff\" IBM does, says Wolpert. IBM also approaches projects in the spirit of open innovation, and not proprietarily. \"Our method of operations is open, and it's often our MO to back not-our-thing,\" he said of IBM since the 1990s. Wolpert cites Java as one such project: \"You would not know about Java today if it weren't for IBM.\" As a \"pretty young dude,\" Wolpert was in the room when IBM made a billion-dollar decision to back Linux over its own technology. He also cites IBM's work on XML as an example of IBM's dedication to open innovation. Currently, IBM has employees working on crypto-security and distributed systems who have been working on consensus algorithms for their entire careers, some for more than 30 years. \"They're crazy smart, we're planetary, we've gone from a couple of guys in a canoe, to a platoon and approaching an army of people working on blockchain,\" Wolpert said. \"So it feels a lot like my first job at IBM which was making Java real for business.\" This has led old and new friends to contact the the multinational technology and consulting corporation. \"Banks who have been calling us constantly ... saying 'What's your view on blockchain?' or 'Hey, let's do a project together on blockchain,'\" Wolpert said. \"We've been doing all these crazy projects on blockchain, every kind of blockchain, and learning a lot, been doing that for a couple years and really started to accelerate last year.\" Today, there is a whole unit dedicated to blockchain technology at Linux Foundation. \"We went all-in on blockchain,\" he explained. What's it all about for Wolpert? \"It's about evolving the Internet.\" Bitcoin is important for moving money around without a single authority. \"[Bitcoin] is a solution to a problem, a specific problem, of people who need to move money around in environments where you don't trust the government,\" Wolpert said. \"I think we can all agree we are approaching the end of the era where a single authority manages trust and gets compensated for the risk in doing so.\" In Wolpert's view, finance does not need to go from today's system of trust -- where consumers trust institutions to handle their money -- to one of complete trustlessness, like the Bitcoin system in which a protocol, not a centralized authority, manages the movement of value. \"It doesn't follow, having one single trust authority to trustlessness on everything,\" he said. \"There is a false dichotomy between the notion of trust and trustlessness, that you have to have a walled garden on one side and Bitcoin on the other.\" He doesn't compare Bitcoin to the Internet, saying that's a wrong analogy. \"It is not apt to say the Internet is like Bitcoin; the Internet is, from the perspective of Bitcoin, a permissioned walled garden,\" he said. \"Ever heard of ICANN? It's permissive, but it's permissioned.\" Bitcoin, Ripple and Ethereum are \"Iteration 1\" of blockchain technology, the three time IBMer told his audience. Wolpert thinks blockchain technology will soon evolve to \"Iteration 2.\" The problem with it? \"The Internet is constrained,\" Wolpert said. \"You have a fabric that allows for lots of competition on platforms and huge amounts of competition on solutions and applications on top of it, so we need to evolve the Internet to become economically aware, and that Internet isn't going to be an application, it is going to be a fabric and then lots of applications on top of that.\" This doesn't mean blockchain 2.0 technologies such as Blockstream, Ethereum and Ripple are lost causes that must now completely retool. The Linux Foundation, in fact, works with Ethereum and Ripple employees. With its blockchain projects, IBM is not focused on moving a cryptocurrency. \"Lots of banks pay us lots of money and we like that, and we want to radically improve them,\" Wolpert explained. \"[Bankers] are gonna try like heck to radically improve what is going on ahead of the disruption, disrupt themselves if you will. If you look at things like [Overstock's] t0, that's happening, might happen on Bitcoin protocol, but might not, and there's plenty of ways to solve it, when you commit to it. And sure, Bitcoin has woken [banks] up to this, so it's doing its job, it's disrupting the thinking and maybe that is all that is necessary.\" Wolpert wonders aloud during his speech if the world would have iTunes were it not for Napster, or Netflix if it weren't for BitTorrent. The former head of products for IBM's Watson Ecosystem says IBM currently has a \"boomtown with giant numbers of people at IBM and everywhere else\" investigating the blockchain problem and how distributed technology can be made useful for industry. He details how oftentimes IBM tinkers with open innovations itself to make the technology ready for industry. That's not the route being taken with Bitcoin. That the Bitcoin network is on par with Ireland for energy consumption, and that mining consortiums could eventually dictate that market, scares the firm away from dealing directly with Bitcoin. \"What I want to see, what we want to see, is a world full of companies who I can know, who I can identify, who are so spread out, like the Internet,\" he said. Wolpert cites the Arab Spring, and the role the Internet played in that uprising, as how a permissioned, yet permissive, structure functions. Websites, albeit technology permissioned by ICANN, remained online during the protests and played a major role. What's the risk in experimenting with blockchain? \"The risk is we go crazy, we have an unruly mess,\" Wolpert warned. \"[But] it's the Linux Foundation, we've been in this movie before. While there's a lot of really smart guys working on Bitcoin and startups, we've got equally amount of people who also have 20 or 30 years of experience with open source and open innovation, and I think we have a good shot at maintaining restraints, keeping it scoped down, keeping it simple, but getting it to something that is useful.\"",
         "en"
        ]
       ],
       "shape": {
        "columns": 13,
        "rows": 5
       }
      },
      "text/html": [
       "<div>\n",
       "<style scoped>\n",
       "    .dataframe tbody tr th:only-of-type {\n",
       "        vertical-align: middle;\n",
       "    }\n",
       "\n",
       "    .dataframe tbody tr th {\n",
       "        vertical-align: top;\n",
       "    }\n",
       "\n",
       "    .dataframe thead th {\n",
       "        text-align: right;\n",
       "    }\n",
       "</style>\n",
       "<table border=\"1\" class=\"dataframe\">\n",
       "  <thead>\n",
       "    <tr style=\"text-align: right;\">\n",
       "      <th></th>\n",
       "      <th>timestamp</th>\n",
       "      <th>eventType</th>\n",
       "      <th>contentId</th>\n",
       "      <th>authorPersonId</th>\n",
       "      <th>authorSessionId</th>\n",
       "      <th>authorUserAgent</th>\n",
       "      <th>authorRegion</th>\n",
       "      <th>authorCountry</th>\n",
       "      <th>contentType</th>\n",
       "      <th>url</th>\n",
       "      <th>title</th>\n",
       "      <th>text</th>\n",
       "      <th>lang</th>\n",
       "    </tr>\n",
       "  </thead>\n",
       "  <tbody>\n",
       "    <tr>\n",
       "      <th>0</th>\n",
       "      <td>1459192779</td>\n",
       "      <td>CONTENT REMOVED</td>\n",
       "      <td>-6451309518266745024</td>\n",
       "      <td>4340306774493623681</td>\n",
       "      <td>8940341205206233829</td>\n",
       "      <td>NaN</td>\n",
       "      <td>NaN</td>\n",
       "      <td>NaN</td>\n",
       "      <td>HTML</td>\n",
       "      <td>http://www.nytimes.com/2016/03/28/business/dea...</td>\n",
       "      <td>Ethereum, a Virtual Currency, Enables Transact...</td>\n",
       "      <td>All of this work is still very early. The firs...</td>\n",
       "      <td>en</td>\n",
       "    </tr>\n",
       "    <tr>\n",
       "      <th>1</th>\n",
       "      <td>1459193988</td>\n",
       "      <td>CONTENT SHARED</td>\n",
       "      <td>-4110354420726924665</td>\n",
       "      <td>4340306774493623681</td>\n",
       "      <td>8940341205206233829</td>\n",
       "      <td>NaN</td>\n",
       "      <td>NaN</td>\n",
       "      <td>NaN</td>\n",
       "      <td>HTML</td>\n",
       "      <td>http://www.nytimes.com/2016/03/28/business/dea...</td>\n",
       "      <td>Ethereum, a Virtual Currency, Enables Transact...</td>\n",
       "      <td>All of this work is still very early. The firs...</td>\n",
       "      <td>en</td>\n",
       "    </tr>\n",
       "    <tr>\n",
       "      <th>2</th>\n",
       "      <td>1459194146</td>\n",
       "      <td>CONTENT SHARED</td>\n",
       "      <td>-7292285110016212249</td>\n",
       "      <td>4340306774493623681</td>\n",
       "      <td>8940341205206233829</td>\n",
       "      <td>NaN</td>\n",
       "      <td>NaN</td>\n",
       "      <td>NaN</td>\n",
       "      <td>HTML</td>\n",
       "      <td>http://cointelegraph.com/news/bitcoin-future-w...</td>\n",
       "      <td>Bitcoin Future: When GBPcoin of Branson Wins O...</td>\n",
       "      <td>The alarm clock wakes me at 8:00 with stream o...</td>\n",
       "      <td>en</td>\n",
       "    </tr>\n",
       "    <tr>\n",
       "      <th>3</th>\n",
       "      <td>1459194474</td>\n",
       "      <td>CONTENT SHARED</td>\n",
       "      <td>-6151852268067518688</td>\n",
       "      <td>3891637997717104548</td>\n",
       "      <td>-1457532940883382585</td>\n",
       "      <td>NaN</td>\n",
       "      <td>NaN</td>\n",
       "      <td>NaN</td>\n",
       "      <td>HTML</td>\n",
       "      <td>https://cloudplatform.googleblog.com/2016/03/G...</td>\n",
       "      <td>Google Data Center 360° Tour</td>\n",
       "      <td>We're excited to share the Google Data Center ...</td>\n",
       "      <td>en</td>\n",
       "    </tr>\n",
       "    <tr>\n",
       "      <th>4</th>\n",
       "      <td>1459194497</td>\n",
       "      <td>CONTENT SHARED</td>\n",
       "      <td>2448026894306402386</td>\n",
       "      <td>4340306774493623681</td>\n",
       "      <td>8940341205206233829</td>\n",
       "      <td>NaN</td>\n",
       "      <td>NaN</td>\n",
       "      <td>NaN</td>\n",
       "      <td>HTML</td>\n",
       "      <td>https://bitcoinmagazine.com/articles/ibm-wants...</td>\n",
       "      <td>IBM Wants to \"Evolve the Internet\" With Blockc...</td>\n",
       "      <td>The Aite Group projects the blockchain market ...</td>\n",
       "      <td>en</td>\n",
       "    </tr>\n",
       "  </tbody>\n",
       "</table>\n",
       "</div>"
      ],
      "text/plain": [
       "    timestamp        eventType            contentId       authorPersonId  \\\n",
       "0  1459192779  CONTENT REMOVED -6451309518266745024  4340306774493623681   \n",
       "1  1459193988   CONTENT SHARED -4110354420726924665  4340306774493623681   \n",
       "2  1459194146   CONTENT SHARED -7292285110016212249  4340306774493623681   \n",
       "3  1459194474   CONTENT SHARED -6151852268067518688  3891637997717104548   \n",
       "4  1459194497   CONTENT SHARED  2448026894306402386  4340306774493623681   \n",
       "\n",
       "       authorSessionId authorUserAgent authorRegion authorCountry contentType  \\\n",
       "0  8940341205206233829             NaN          NaN           NaN        HTML   \n",
       "1  8940341205206233829             NaN          NaN           NaN        HTML   \n",
       "2  8940341205206233829             NaN          NaN           NaN        HTML   \n",
       "3 -1457532940883382585             NaN          NaN           NaN        HTML   \n",
       "4  8940341205206233829             NaN          NaN           NaN        HTML   \n",
       "\n",
       "                                                 url  \\\n",
       "0  http://www.nytimes.com/2016/03/28/business/dea...   \n",
       "1  http://www.nytimes.com/2016/03/28/business/dea...   \n",
       "2  http://cointelegraph.com/news/bitcoin-future-w...   \n",
       "3  https://cloudplatform.googleblog.com/2016/03/G...   \n",
       "4  https://bitcoinmagazine.com/articles/ibm-wants...   \n",
       "\n",
       "                                               title  \\\n",
       "0  Ethereum, a Virtual Currency, Enables Transact...   \n",
       "1  Ethereum, a Virtual Currency, Enables Transact...   \n",
       "2  Bitcoin Future: When GBPcoin of Branson Wins O...   \n",
       "3                       Google Data Center 360° Tour   \n",
       "4  IBM Wants to \"Evolve the Internet\" With Blockc...   \n",
       "\n",
       "                                                text lang  \n",
       "0  All of this work is still very early. The firs...   en  \n",
       "1  All of this work is still very early. The firs...   en  \n",
       "2  The alarm clock wakes me at 8:00 with stream o...   en  \n",
       "3  We're excited to share the Google Data Center ...   en  \n",
       "4  The Aite Group projects the blockchain market ...   en  "
      ]
     },
     "execution_count": 1,
     "metadata": {},
     "output_type": "execute_result"
    }
   ],
   "source": [
    "import pandas as pd\n",
    "from sklearn.feature_extraction.text import TfidfVectorizer\n",
    "from sklearn.metrics.pairwise import linear_kernel\n",
    "\n",
    "df_article = pd.read_csv('CVS/shared_articles.csv')\n",
    "df_user = pd.read_csv('CVS/users_interactions.csv')\n",
    "df_article.head()\n"
   ]
  },
  {
   "cell_type": "code",
   "execution_count": 2,
   "metadata": {},
   "outputs": [
    {
     "data": {
      "application/vnd.microsoft.datawrangler.viewer.v0+json": {
       "columns": [
        {
         "name": "index",
         "rawType": "int64",
         "type": "integer"
        },
        {
         "name": "timestamp",
         "rawType": "int64",
         "type": "integer"
        },
        {
         "name": "eventType",
         "rawType": "object",
         "type": "string"
        },
        {
         "name": "contentId",
         "rawType": "int64",
         "type": "integer"
        },
        {
         "name": "personId",
         "rawType": "int64",
         "type": "integer"
        },
        {
         "name": "sessionId",
         "rawType": "int64",
         "type": "integer"
        },
        {
         "name": "userAgent",
         "rawType": "object",
         "type": "unknown"
        },
        {
         "name": "userRegion",
         "rawType": "object",
         "type": "unknown"
        },
        {
         "name": "userCountry",
         "rawType": "object",
         "type": "unknown"
        }
       ],
       "conversionMethod": "pd.DataFrame",
       "ref": "266da53c-3a61-4fbc-aa26-2cfd467a4a70",
       "rows": [
        [
         "0",
         "1465413032",
         "VIEW",
         "-3499919498720038879",
         "-8845298781299428018",
         "1264196770339959068",
         null,
         null,
         null
        ],
        [
         "1",
         "1465412560",
         "VIEW",
         "8890720798209849691",
         "-1032019229384696495",
         "3621737643587579081",
         "Mozilla/5.0 (Macintosh; Intel Mac OS X 10_11_2) AppleWebKit/537.36 (KHTML, like Gecko) Chrome/52.0.2743.24 Safari/537.36",
         "NY",
         "US"
        ],
        [
         "2",
         "1465416190",
         "VIEW",
         "310515487419366995",
         "-1130272294246983140",
         "2631864456530402479",
         null,
         null,
         null
        ],
        [
         "3",
         "1465413895",
         "FOLLOW",
         "310515487419366995",
         "344280948527967603",
         "-3167637573980064150",
         null,
         null,
         null
        ],
        [
         "4",
         "1465412290",
         "VIEW",
         "-7820640624231356730",
         "-445337111692715325",
         "5611481178424124714",
         null,
         null,
         null
        ]
       ],
       "shape": {
        "columns": 8,
        "rows": 5
       }
      },
      "text/html": [
       "<div>\n",
       "<style scoped>\n",
       "    .dataframe tbody tr th:only-of-type {\n",
       "        vertical-align: middle;\n",
       "    }\n",
       "\n",
       "    .dataframe tbody tr th {\n",
       "        vertical-align: top;\n",
       "    }\n",
       "\n",
       "    .dataframe thead th {\n",
       "        text-align: right;\n",
       "    }\n",
       "</style>\n",
       "<table border=\"1\" class=\"dataframe\">\n",
       "  <thead>\n",
       "    <tr style=\"text-align: right;\">\n",
       "      <th></th>\n",
       "      <th>timestamp</th>\n",
       "      <th>eventType</th>\n",
       "      <th>contentId</th>\n",
       "      <th>personId</th>\n",
       "      <th>sessionId</th>\n",
       "      <th>userAgent</th>\n",
       "      <th>userRegion</th>\n",
       "      <th>userCountry</th>\n",
       "    </tr>\n",
       "  </thead>\n",
       "  <tbody>\n",
       "    <tr>\n",
       "      <th>0</th>\n",
       "      <td>1465413032</td>\n",
       "      <td>VIEW</td>\n",
       "      <td>-3499919498720038879</td>\n",
       "      <td>-8845298781299428018</td>\n",
       "      <td>1264196770339959068</td>\n",
       "      <td>NaN</td>\n",
       "      <td>NaN</td>\n",
       "      <td>NaN</td>\n",
       "    </tr>\n",
       "    <tr>\n",
       "      <th>1</th>\n",
       "      <td>1465412560</td>\n",
       "      <td>VIEW</td>\n",
       "      <td>8890720798209849691</td>\n",
       "      <td>-1032019229384696495</td>\n",
       "      <td>3621737643587579081</td>\n",
       "      <td>Mozilla/5.0 (Macintosh; Intel Mac OS X 10_11_2...</td>\n",
       "      <td>NY</td>\n",
       "      <td>US</td>\n",
       "    </tr>\n",
       "    <tr>\n",
       "      <th>2</th>\n",
       "      <td>1465416190</td>\n",
       "      <td>VIEW</td>\n",
       "      <td>310515487419366995</td>\n",
       "      <td>-1130272294246983140</td>\n",
       "      <td>2631864456530402479</td>\n",
       "      <td>NaN</td>\n",
       "      <td>NaN</td>\n",
       "      <td>NaN</td>\n",
       "    </tr>\n",
       "    <tr>\n",
       "      <th>3</th>\n",
       "      <td>1465413895</td>\n",
       "      <td>FOLLOW</td>\n",
       "      <td>310515487419366995</td>\n",
       "      <td>344280948527967603</td>\n",
       "      <td>-3167637573980064150</td>\n",
       "      <td>NaN</td>\n",
       "      <td>NaN</td>\n",
       "      <td>NaN</td>\n",
       "    </tr>\n",
       "    <tr>\n",
       "      <th>4</th>\n",
       "      <td>1465412290</td>\n",
       "      <td>VIEW</td>\n",
       "      <td>-7820640624231356730</td>\n",
       "      <td>-445337111692715325</td>\n",
       "      <td>5611481178424124714</td>\n",
       "      <td>NaN</td>\n",
       "      <td>NaN</td>\n",
       "      <td>NaN</td>\n",
       "    </tr>\n",
       "  </tbody>\n",
       "</table>\n",
       "</div>"
      ],
      "text/plain": [
       "    timestamp eventType            contentId             personId  \\\n",
       "0  1465413032      VIEW -3499919498720038879 -8845298781299428018   \n",
       "1  1465412560      VIEW  8890720798209849691 -1032019229384696495   \n",
       "2  1465416190      VIEW   310515487419366995 -1130272294246983140   \n",
       "3  1465413895    FOLLOW   310515487419366995   344280948527967603   \n",
       "4  1465412290      VIEW -7820640624231356730  -445337111692715325   \n",
       "\n",
       "             sessionId                                          userAgent  \\\n",
       "0  1264196770339959068                                                NaN   \n",
       "1  3621737643587579081  Mozilla/5.0 (Macintosh; Intel Mac OS X 10_11_2...   \n",
       "2  2631864456530402479                                                NaN   \n",
       "3 -3167637573980064150                                                NaN   \n",
       "4  5611481178424124714                                                NaN   \n",
       "\n",
       "  userRegion userCountry  \n",
       "0        NaN         NaN  \n",
       "1         NY          US  \n",
       "2        NaN         NaN  \n",
       "3        NaN         NaN  \n",
       "4        NaN         NaN  "
      ]
     },
     "execution_count": 2,
     "metadata": {},
     "output_type": "execute_result"
    }
   ],
   "source": [
    "df_user.head()"
   ]
  },
  {
   "cell_type": "code",
   "execution_count": null,
   "metadata": {},
   "outputs": [],
   "source": []
  },
  {
   "cell_type": "code",
   "execution_count": 9,
   "metadata": {},
   "outputs": [
    {
     "data": {
      "application/vnd.microsoft.datawrangler.viewer.v0+json": {
       "columns": [
        {
         "name": "index",
         "rawType": "int64",
         "type": "integer"
        },
        {
         "name": "timestamp_x",
         "rawType": "int64",
         "type": "integer"
        },
        {
         "name": "eventType_x",
         "rawType": "object",
         "type": "string"
        },
        {
         "name": "contentId",
         "rawType": "int64",
         "type": "integer"
        },
        {
         "name": "authorPersonId",
         "rawType": "int64",
         "type": "integer"
        },
        {
         "name": "authorSessionId",
         "rawType": "int64",
         "type": "integer"
        },
        {
         "name": "authorUserAgent",
         "rawType": "object",
         "type": "unknown"
        },
        {
         "name": "authorRegion",
         "rawType": "object",
         "type": "unknown"
        },
        {
         "name": "authorCountry",
         "rawType": "object",
         "type": "unknown"
        },
        {
         "name": "contentType",
         "rawType": "object",
         "type": "string"
        },
        {
         "name": "url",
         "rawType": "object",
         "type": "string"
        },
        {
         "name": "title",
         "rawType": "object",
         "type": "string"
        },
        {
         "name": "text",
         "rawType": "object",
         "type": "string"
        },
        {
         "name": "lang",
         "rawType": "object",
         "type": "string"
        },
        {
         "name": "timestamp_y",
         "rawType": "int64",
         "type": "integer"
        },
        {
         "name": "eventType_y",
         "rawType": "object",
         "type": "string"
        },
        {
         "name": "personId",
         "rawType": "int64",
         "type": "integer"
        },
        {
         "name": "sessionId",
         "rawType": "int64",
         "type": "integer"
        },
        {
         "name": "userAgent",
         "rawType": "object",
         "type": "string"
        },
        {
         "name": "userRegion",
         "rawType": "object",
         "type": "string"
        },
        {
         "name": "userCountry",
         "rawType": "object",
         "type": "string"
        }
       ],
       "conversionMethod": "pd.DataFrame",
       "ref": "a6d4246e-3387-4d20-aa26-1ca8da2d2f4e",
       "rows": [
        [
         "0",
         "1459192779",
         "CONTENT REMOVED",
         "-6451309518266745024",
         "4340306774493623681",
         "8940341205206233829",
         null,
         null,
         null,
         "HTML",
         "http://www.nytimes.com/2016/03/28/business/dealbook/ethereum-a-virtual-currency-enables-transactions-that-rival-bitcoins.html",
         "Ethereum, a Virtual Currency, Enables Transactions That Rival Bitcoin's",
         "All of this work is still very early. The first full public version of the Ethereum software was recently released, and the system could face some of the same technical and legal problems that have tarnished Bitcoin. Many Bitcoin advocates say Ethereum will face more security problems than Bitcoin because of the greater complexity of the software. Thus far, Ethereum has faced much less testing, and many fewer attacks, than Bitcoin. The novel design of Ethereum may also invite intense scrutiny by authorities given that potentially fraudulent contracts, like the Ponzi schemes, can be written directly into the Ethereum system. But the sophisticated capabilities of the system have made it fascinating to some executives in corporate America. IBM said last year that it was experimenting with Ethereum as a way to control real world objects in the so-called Internet of things. Microsoft has been working on several projects that make it easier to use Ethereum on its computing cloud, Azure. \"Ethereum is a general platform where you can solve problems in many industries using a fairly elegant solution - the most elegant solution we have seen to date,\" said Marley Gray, a director of business development and strategy at Microsoft. Mr. Gray is responsible for Microsoft's work with blockchains, the database concept that Bitcoin introduced. Blockchains are designed to store transactions and data without requiring any central authority or repository. Blockchain ledgers are generally maintained and updated by networks of computers working together - somewhat similar to the way that Wikipedia is updated and maintained by all its users. Many corporations, though, have created their own Ethereum networks with private blockchains, independent of the public system, and that could ultimately detract from the value of the individual unit in the Ethereum system - known as an Ether - that people have recently been buying. The interest in Ethereum is one sign of the corporate fascination with blockchains. Most major banks have expressed an interest in using them to make trading and money transfer faster and more efficient. On Tuesday, executives from the largest banks will gather for a conference, \"Blockchain: Tapping I nto the Real Potential , Cutting Through the Hype.\" Many of these banks have recently been looking at how some version of Ethereum might be put to use. JPMorgan, for instance, has created a specific tool, Masala, that allows some of its internal databases to interact with an Ethereum blockchain. Michael Novogratz, a former top executive at the private equity firm Fortress Investing Group, who helped lead Fortress's investment in Bitcoin, has been looking at Ethereum since he left Fortress last fall. Mr. Novogratz said that he made a \"significant\" purchase of Ether in January. He has also heard how the financial industry's chatter about the virtual currency has evolved. \"A lot of the more established players were thinking, 'It's still an experiment,' \" he said. \"It feels like in the last two to three months that experiment is at least getting a lot more validation.\" Since the beginning of the year, the value of an individual unit of Ether has soared as high as $12 from around $1. That has brought the value of all existing Ether to over $1 billion at times, significantly more than any virtual currency other than Bitcoin, which had over $6 billion in value outstanding last week. Since Bitcoin was invented, there have been many so-called alt-coins that have tried to improve on Bitcoin, but none have won the following of Ethereum. Unlike Bitcoin, which was released in 2009 by a mysterious creator known as Satoshi Nakamoto, Ethereum was created in a more transparent fashion by a 21-year-old Russian-Canadian, Vitalik Buterin, after he dropped out of Waterloo University in Ontario. The most basic aim of Ethereum was to make it possible to program binding agreements into the blockchain - the smart contract concept. Two people, for instance, could program a bet on a sports game directly into the Ethereum blockchain. Once the final score came in from a mutually agreed upon source - say, The Associated Press - the money would be automatically transferred to the winning party. Ether can be used as a currency in this system, but Ether are also necessary to pay for the network power needed to process the bet. The Ethereum system has sometimes been described as a single shared computer that is run by the network of users and on which resources are parceled out and paid for by Ether. A team of seven co-founders helped Mr. Buterin write up the software after he released the initial description of the system. Mr. Buterin's team raised $18 million in 2014 through a presale of Ether, which helped fund the Ethereum Foundation, which supports the software's development. Like Bitcoin, Ethereum has succeeded by attracting a dedicated network of followers who have helped support the software, partly in the hope that their Ether will increase in value if the system succeeds. Last week, there were 5,800 computers - or nodes - helping support the network around the world. The Bitcoin network had about 7,400 nodes. One of Mr. Buterin's co-founders, Joseph Lubin, has set up ConsenSys, a company based in Brooklyn that has hired over 50 developers to build applications on the Ethereum system, including one that enables music distribution and another that allows for a new kind of financial auditing. The ConsenSys offices are in an old industrial building in the Bushwick section of Brooklyn. The office is essentially one large room, with all the messy trademarks of a start-up operation, including white boards on the walls and computer parts lying around. Mr. Lubin said he had thrown himself into Ethereum after starting to think that it delivered on some of the failed promise of Bitcoin, especially when it came to allowing new kinds of online contracts and markets. \"Bitcoin presented the broad strokes vision, and Ethereum presented the crystallization of how to deliver that vision,\" he said. Joseph Bonneau, a computer science researcher at Stanford who studies so-called crypto-currencies, said Ethereum was the first system that had really caught his interest since Bitcoin. It is far from a sure thing, he cautioned. \"Bitcoin is still probably the safest bet, but Ethereum is certainly No. 2, and some folks will say it is more likely to be around in 10 years,\" Mr. Bonneau said. \"It will depend if any real markets develop around it. If there is some actual application.\"",
         "en",
         "1459192561",
         "VIEW",
         "4340306774493623681",
         "8940341205206233829",
         "Mozilla/5.0 (Macintosh; Intel Mac OS X 10_10_5) AppleWebKit/537.36 (KHTML, like Gecko) Chrome/49.0.2623.87 Safari/537.36",
         "SP",
         "BR"
        ],
        [
         "1",
         "1459192779",
         "CONTENT REMOVED",
         "-6451309518266745024",
         "4340306774493623681",
         "8940341205206233829",
         null,
         null,
         null,
         "HTML",
         "http://www.nytimes.com/2016/03/28/business/dealbook/ethereum-a-virtual-currency-enables-transactions-that-rival-bitcoins.html",
         "Ethereum, a Virtual Currency, Enables Transactions That Rival Bitcoin's",
         "All of this work is still very early. The first full public version of the Ethereum software was recently released, and the system could face some of the same technical and legal problems that have tarnished Bitcoin. Many Bitcoin advocates say Ethereum will face more security problems than Bitcoin because of the greater complexity of the software. Thus far, Ethereum has faced much less testing, and many fewer attacks, than Bitcoin. The novel design of Ethereum may also invite intense scrutiny by authorities given that potentially fraudulent contracts, like the Ponzi schemes, can be written directly into the Ethereum system. But the sophisticated capabilities of the system have made it fascinating to some executives in corporate America. IBM said last year that it was experimenting with Ethereum as a way to control real world objects in the so-called Internet of things. Microsoft has been working on several projects that make it easier to use Ethereum on its computing cloud, Azure. \"Ethereum is a general platform where you can solve problems in many industries using a fairly elegant solution - the most elegant solution we have seen to date,\" said Marley Gray, a director of business development and strategy at Microsoft. Mr. Gray is responsible for Microsoft's work with blockchains, the database concept that Bitcoin introduced. Blockchains are designed to store transactions and data without requiring any central authority or repository. Blockchain ledgers are generally maintained and updated by networks of computers working together - somewhat similar to the way that Wikipedia is updated and maintained by all its users. Many corporations, though, have created their own Ethereum networks with private blockchains, independent of the public system, and that could ultimately detract from the value of the individual unit in the Ethereum system - known as an Ether - that people have recently been buying. The interest in Ethereum is one sign of the corporate fascination with blockchains. Most major banks have expressed an interest in using them to make trading and money transfer faster and more efficient. On Tuesday, executives from the largest banks will gather for a conference, \"Blockchain: Tapping I nto the Real Potential , Cutting Through the Hype.\" Many of these banks have recently been looking at how some version of Ethereum might be put to use. JPMorgan, for instance, has created a specific tool, Masala, that allows some of its internal databases to interact with an Ethereum blockchain. Michael Novogratz, a former top executive at the private equity firm Fortress Investing Group, who helped lead Fortress's investment in Bitcoin, has been looking at Ethereum since he left Fortress last fall. Mr. Novogratz said that he made a \"significant\" purchase of Ether in January. He has also heard how the financial industry's chatter about the virtual currency has evolved. \"A lot of the more established players were thinking, 'It's still an experiment,' \" he said. \"It feels like in the last two to three months that experiment is at least getting a lot more validation.\" Since the beginning of the year, the value of an individual unit of Ether has soared as high as $12 from around $1. That has brought the value of all existing Ether to over $1 billion at times, significantly more than any virtual currency other than Bitcoin, which had over $6 billion in value outstanding last week. Since Bitcoin was invented, there have been many so-called alt-coins that have tried to improve on Bitcoin, but none have won the following of Ethereum. Unlike Bitcoin, which was released in 2009 by a mysterious creator known as Satoshi Nakamoto, Ethereum was created in a more transparent fashion by a 21-year-old Russian-Canadian, Vitalik Buterin, after he dropped out of Waterloo University in Ontario. The most basic aim of Ethereum was to make it possible to program binding agreements into the blockchain - the smart contract concept. Two people, for instance, could program a bet on a sports game directly into the Ethereum blockchain. Once the final score came in from a mutually agreed upon source - say, The Associated Press - the money would be automatically transferred to the winning party. Ether can be used as a currency in this system, but Ether are also necessary to pay for the network power needed to process the bet. The Ethereum system has sometimes been described as a single shared computer that is run by the network of users and on which resources are parceled out and paid for by Ether. A team of seven co-founders helped Mr. Buterin write up the software after he released the initial description of the system. Mr. Buterin's team raised $18 million in 2014 through a presale of Ether, which helped fund the Ethereum Foundation, which supports the software's development. Like Bitcoin, Ethereum has succeeded by attracting a dedicated network of followers who have helped support the software, partly in the hope that their Ether will increase in value if the system succeeds. Last week, there were 5,800 computers - or nodes - helping support the network around the world. The Bitcoin network had about 7,400 nodes. One of Mr. Buterin's co-founders, Joseph Lubin, has set up ConsenSys, a company based in Brooklyn that has hired over 50 developers to build applications on the Ethereum system, including one that enables music distribution and another that allows for a new kind of financial auditing. The ConsenSys offices are in an old industrial building in the Bushwick section of Brooklyn. The office is essentially one large room, with all the messy trademarks of a start-up operation, including white boards on the walls and computer parts lying around. Mr. Lubin said he had thrown himself into Ethereum after starting to think that it delivered on some of the failed promise of Bitcoin, especially when it came to allowing new kinds of online contracts and markets. \"Bitcoin presented the broad strokes vision, and Ethereum presented the crystallization of how to deliver that vision,\" he said. Joseph Bonneau, a computer science researcher at Stanford who studies so-called crypto-currencies, said Ethereum was the first system that had really caught his interest since Bitcoin. It is far from a sure thing, he cautioned. \"Bitcoin is still probably the safest bet, but Ethereum is certainly No. 2, and some folks will say it is more likely to be around in 10 years,\" Mr. Bonneau said. \"It will depend if any real markets develop around it. If there is some actual application.\"",
         "en",
         "1459192667",
         "VIEW",
         "4340306774493623681",
         "8940341205206233829",
         "Mozilla/5.0 (Macintosh; Intel Mac OS X 10_10_5) AppleWebKit/537.36 (KHTML, like Gecko) Chrome/49.0.2623.87 Safari/537.36",
         "SP",
         "BR"
        ],
        [
         "2",
         "1459192779",
         "CONTENT REMOVED",
         "-6451309518266745024",
         "4340306774493623681",
         "8940341205206233829",
         null,
         null,
         null,
         "HTML",
         "http://www.nytimes.com/2016/03/28/business/dealbook/ethereum-a-virtual-currency-enables-transactions-that-rival-bitcoins.html",
         "Ethereum, a Virtual Currency, Enables Transactions That Rival Bitcoin's",
         "All of this work is still very early. The first full public version of the Ethereum software was recently released, and the system could face some of the same technical and legal problems that have tarnished Bitcoin. Many Bitcoin advocates say Ethereum will face more security problems than Bitcoin because of the greater complexity of the software. Thus far, Ethereum has faced much less testing, and many fewer attacks, than Bitcoin. The novel design of Ethereum may also invite intense scrutiny by authorities given that potentially fraudulent contracts, like the Ponzi schemes, can be written directly into the Ethereum system. But the sophisticated capabilities of the system have made it fascinating to some executives in corporate America. IBM said last year that it was experimenting with Ethereum as a way to control real world objects in the so-called Internet of things. Microsoft has been working on several projects that make it easier to use Ethereum on its computing cloud, Azure. \"Ethereum is a general platform where you can solve problems in many industries using a fairly elegant solution - the most elegant solution we have seen to date,\" said Marley Gray, a director of business development and strategy at Microsoft. Mr. Gray is responsible for Microsoft's work with blockchains, the database concept that Bitcoin introduced. Blockchains are designed to store transactions and data without requiring any central authority or repository. Blockchain ledgers are generally maintained and updated by networks of computers working together - somewhat similar to the way that Wikipedia is updated and maintained by all its users. Many corporations, though, have created their own Ethereum networks with private blockchains, independent of the public system, and that could ultimately detract from the value of the individual unit in the Ethereum system - known as an Ether - that people have recently been buying. The interest in Ethereum is one sign of the corporate fascination with blockchains. Most major banks have expressed an interest in using them to make trading and money transfer faster and more efficient. On Tuesday, executives from the largest banks will gather for a conference, \"Blockchain: Tapping I nto the Real Potential , Cutting Through the Hype.\" Many of these banks have recently been looking at how some version of Ethereum might be put to use. JPMorgan, for instance, has created a specific tool, Masala, that allows some of its internal databases to interact with an Ethereum blockchain. Michael Novogratz, a former top executive at the private equity firm Fortress Investing Group, who helped lead Fortress's investment in Bitcoin, has been looking at Ethereum since he left Fortress last fall. Mr. Novogratz said that he made a \"significant\" purchase of Ether in January. He has also heard how the financial industry's chatter about the virtual currency has evolved. \"A lot of the more established players were thinking, 'It's still an experiment,' \" he said. \"It feels like in the last two to three months that experiment is at least getting a lot more validation.\" Since the beginning of the year, the value of an individual unit of Ether has soared as high as $12 from around $1. That has brought the value of all existing Ether to over $1 billion at times, significantly more than any virtual currency other than Bitcoin, which had over $6 billion in value outstanding last week. Since Bitcoin was invented, there have been many so-called alt-coins that have tried to improve on Bitcoin, but none have won the following of Ethereum. Unlike Bitcoin, which was released in 2009 by a mysterious creator known as Satoshi Nakamoto, Ethereum was created in a more transparent fashion by a 21-year-old Russian-Canadian, Vitalik Buterin, after he dropped out of Waterloo University in Ontario. The most basic aim of Ethereum was to make it possible to program binding agreements into the blockchain - the smart contract concept. Two people, for instance, could program a bet on a sports game directly into the Ethereum blockchain. Once the final score came in from a mutually agreed upon source - say, The Associated Press - the money would be automatically transferred to the winning party. Ether can be used as a currency in this system, but Ether are also necessary to pay for the network power needed to process the bet. The Ethereum system has sometimes been described as a single shared computer that is run by the network of users and on which resources are parceled out and paid for by Ether. A team of seven co-founders helped Mr. Buterin write up the software after he released the initial description of the system. Mr. Buterin's team raised $18 million in 2014 through a presale of Ether, which helped fund the Ethereum Foundation, which supports the software's development. Like Bitcoin, Ethereum has succeeded by attracting a dedicated network of followers who have helped support the software, partly in the hope that their Ether will increase in value if the system succeeds. Last week, there were 5,800 computers - or nodes - helping support the network around the world. The Bitcoin network had about 7,400 nodes. One of Mr. Buterin's co-founders, Joseph Lubin, has set up ConsenSys, a company based in Brooklyn that has hired over 50 developers to build applications on the Ethereum system, including one that enables music distribution and another that allows for a new kind of financial auditing. The ConsenSys offices are in an old industrial building in the Bushwick section of Brooklyn. The office is essentially one large room, with all the messy trademarks of a start-up operation, including white boards on the walls and computer parts lying around. Mr. Lubin said he had thrown himself into Ethereum after starting to think that it delivered on some of the failed promise of Bitcoin, especially when it came to allowing new kinds of online contracts and markets. \"Bitcoin presented the broad strokes vision, and Ethereum presented the crystallization of how to deliver that vision,\" he said. Joseph Bonneau, a computer science researcher at Stanford who studies so-called crypto-currencies, said Ethereum was the first system that had really caught his interest since Bitcoin. It is far from a sure thing, he cautioned. \"Bitcoin is still probably the safest bet, but Ethereum is certainly No. 2, and some folks will say it is more likely to be around in 10 years,\" Mr. Bonneau said. \"It will depend if any real markets develop around it. If there is some actual application.\"",
         "en",
         "1459164960",
         "VIEW",
         "-1578287561410088674",
         "2811329017818501696",
         "Mozilla/5.0 (Macintosh; Intel Mac OS X 10_11_4) AppleWebKit/537.36 (KHTML, like Gecko) SmartCanvas/0.1.0 Chrome/49.0.2623.75 Electron/0.37.2 Safari/537.36",
         "SP",
         "BR"
        ],
        [
         "3",
         "1459193988",
         "CONTENT SHARED",
         "-4110354420726924665",
         "4340306774493623681",
         "8940341205206233829",
         null,
         null,
         null,
         "HTML",
         "http://www.nytimes.com/2016/03/28/business/dealbook/ethereum-a-virtual-currency-enables-transactions-that-rival-bitcoins.html",
         "Ethereum, a Virtual Currency, Enables Transactions That Rival Bitcoin's",
         "All of this work is still very early. The first full public version of the Ethereum software was recently released, and the system could face some of the same technical and legal problems that have tarnished Bitcoin. Many Bitcoin advocates say Ethereum will face more security problems than Bitcoin because of the greater complexity of the software. Thus far, Ethereum has faced much less testing, and many fewer attacks, than Bitcoin. The novel design of Ethereum may also invite intense scrutiny by authorities given that potentially fraudulent contracts, like the Ponzi schemes, can be written directly into the Ethereum system. But the sophisticated capabilities of the system have made it fascinating to some executives in corporate America. IBM said last year that it was experimenting with Ethereum as a way to control real world objects in the so-called Internet of things. Microsoft has been working on several projects that make it easier to use Ethereum on its computing cloud, Azure. \"Ethereum is a general platform where you can solve problems in many industries using a fairly elegant solution - the most elegant solution we have seen to date,\" said Marley Gray, a director of business development and strategy at Microsoft. Mr. Gray is responsible for Microsoft's work with blockchains, the database concept that Bitcoin introduced. Blockchains are designed to store transactions and data without requiring any central authority or repository. Blockchain ledgers are generally maintained and updated by networks of computers working together - somewhat similar to the way that Wikipedia is updated and maintained by all its users. Many corporations, though, have created their own Ethereum networks with private blockchains, independent of the public system, and that could ultimately detract from the value of the individual unit in the Ethereum system - known as an Ether - that people have recently been buying. The interest in Ethereum is one sign of the corporate fascination with blockchains. Most major banks have expressed an interest in using them to make trading and money transfer faster and more efficient. On Tuesday, executives from the largest banks will gather for a conference, \"Blockchain: Tapping I nto the Real Potential , Cutting Through the Hype.\" Many of these banks have recently been looking at how some version of Ethereum might be put to use. JPMorgan, for instance, has created a specific tool, Masala, that allows some of its internal databases to interact with an Ethereum blockchain. Michael Novogratz, a former top executive at the private equity firm Fortress Investing Group, who helped lead Fortress's investment in Bitcoin, has been looking at Ethereum since he left Fortress last fall. Mr. Novogratz said that he made a \"significant\" purchase of Ether in January. He has also heard how the financial industry's chatter about the virtual currency has evolved. \"A lot of the more established players were thinking, 'It's still an experiment,' \" he said. \"It feels like in the last two to three months that experiment is at least getting a lot more validation.\" Since the beginning of the year, the value of an individual unit of Ether has soared as high as $12 from around $1. That has brought the value of all existing Ether to over $1 billion at times, significantly more than any virtual currency other than Bitcoin, which had over $6 billion in value outstanding last week. Since Bitcoin was invented, there have been many so-called alt-coins that have tried to improve on Bitcoin, but none have won the following of Ethereum. Unlike Bitcoin, which was released in 2009 by a mysterious creator known as Satoshi Nakamoto, Ethereum was created in a more transparent fashion by a 21-year-old Russian-Canadian, Vitalik Buterin, after he dropped out of Waterloo University in Ontario. The most basic aim of Ethereum was to make it possible to program binding agreements into the blockchain - the smart contract concept. Two people, for instance, could program a bet on a sports game directly into the Ethereum blockchain. Once the final score came in from a mutually agreed upon source - say, The Associated Press - the money would be automatically transferred to the winning party. Ether can be used as a currency in this system, but Ether are also necessary to pay for the network power needed to process the bet. The Ethereum system has sometimes been described as a single shared computer that is run by the network of users and on which resources are parceled out and paid for by Ether. A team of seven co-founders helped Mr. Buterin write up the software after he released the initial description of the system. Mr. Buterin's team raised $18 million in 2014 through a presale of Ether, which helped fund the Ethereum Foundation, which supports the software's development. Like Bitcoin, Ethereum has succeeded by attracting a dedicated network of followers who have helped support the software, partly in the hope that their Ether will increase in value if the system succeeds. Last week, there were 5,800 computers - or nodes - helping support the network around the world. The Bitcoin network had about 7,400 nodes. One of Mr. Buterin's co-founders, Joseph Lubin, has set up ConsenSys, a company based in Brooklyn that has hired over 50 developers to build applications on the Ethereum system, including one that enables music distribution and another that allows for a new kind of financial auditing. The ConsenSys offices are in an old industrial building in the Bushwick section of Brooklyn. The office is essentially one large room, with all the messy trademarks of a start-up operation, including white boards on the walls and computer parts lying around. Mr. Lubin said he had thrown himself into Ethereum after starting to think that it delivered on some of the failed promise of Bitcoin, especially when it came to allowing new kinds of online contracts and markets. \"Bitcoin presented the broad strokes vision, and Ethereum presented the crystallization of how to deliver that vision,\" he said. Joseph Bonneau, a computer science researcher at Stanford who studies so-called crypto-currencies, said Ethereum was the first system that had really caught his interest since Bitcoin. It is far from a sure thing, he cautioned. \"Bitcoin is still probably the safest bet, but Ethereum is certainly No. 2, and some folks will say it is more likely to be around in 10 years,\" Mr. Bonneau said. \"It will depend if any real markets develop around it. If there is some actual application.\"",
         "en",
         "1459270471",
         "VIEW",
         "2873028073541627603",
         "-3228450896145227905",
         "Mozilla/5.0 (Windows NT 6.1; WOW64) AppleWebKit/537.36 (KHTML, like Gecko) Chrome/49.0.2623.87 Safari/537.36",
         "SP",
         "BR"
        ],
        [
         "4",
         "1459194146",
         "CONTENT SHARED",
         "-7292285110016212249",
         "4340306774493623681",
         "8940341205206233829",
         null,
         null,
         null,
         "HTML",
         "http://cointelegraph.com/news/bitcoin-future-when-gbpcoin-of-branson-wins-over-usdcoin-of-trump",
         "Bitcoin Future: When GBPcoin of Branson Wins Over USDcoin of Trump",
         "The alarm clock wakes me at 8:00 with stream of advert-free broadcasting, charged at one satoshi per second. The current BTC exchange rate makes that snooze button a costly proposition! So I get up, make coffee and go to my computer to check the overnight performance of my bots. TradeBot earns me on Trump and Branson TradeBot, which allocates funds between the main chain and various national currency side-chains, generated a lucrative 0.24 BTC return. TradeBot has been reliably profitable ever since I set it to trade USDcoin according to political prediction market data. As expected, the latest poll numbers came in as highly supportive of Trump's re-election as USDcoin CEO. Trump's resistance to de-anonymizing public spending, by moving USDcoin off the Confidential Transactions layer, continues to erode his coin's credibility. In his latest speech, Trump maintains that full CT-privacy is essential to \"combatting CNYcoin's sinister ring-signature scheming.\" I make a note to increase my long position in GBPcoin. Following CEO Branson's memo to the effect that government finances and national banks be brought into compliance with the public blockchain , British corruption indices have flatlined. As the first national econmy to \"go light,\" Britain leads the global recovery from the Great Debt Default of '20. Happy with the GoatData Project I check TeachBot and note that it's performing in-line with expectations. TeachBot serves as an autonomous info-agent between various contracting AIs and data providers. The 0.5 BTC bounty it awarded to a team of Sherpas to outfit a herd of Tibetan mountain goats with full motion-sensing rigs has already been repaid...I check the latest figures... four times over! My best TeachBot strategy to date, the GoatData project provides valuable data to WinterHoof, the Artificial General Intelligence in charge of the Swiss military's quadripedal robotics program. At this rate, I'll soon have enough BTC to retire to Satoshi City on Mars!",
         "en",
         "1459539433",
         "VIEW",
         "8414731042150985013",
         "4543899740167763020",
         "Mozilla/5.0 (Macintosh; Intel Mac OS X 10_11_4) AppleWebKit/537.36 (KHTML, like Gecko) Chrome/49.0.2623.110 Safari/537.36",
         "MG",
         "BR"
        ]
       ],
       "shape": {
        "columns": 20,
        "rows": 5
       }
      },
      "text/html": [
       "<div>\n",
       "<style scoped>\n",
       "    .dataframe tbody tr th:only-of-type {\n",
       "        vertical-align: middle;\n",
       "    }\n",
       "\n",
       "    .dataframe tbody tr th {\n",
       "        vertical-align: top;\n",
       "    }\n",
       "\n",
       "    .dataframe thead th {\n",
       "        text-align: right;\n",
       "    }\n",
       "</style>\n",
       "<table border=\"1\" class=\"dataframe\">\n",
       "  <thead>\n",
       "    <tr style=\"text-align: right;\">\n",
       "      <th></th>\n",
       "      <th>timestamp_x</th>\n",
       "      <th>eventType_x</th>\n",
       "      <th>contentId</th>\n",
       "      <th>authorPersonId</th>\n",
       "      <th>authorSessionId</th>\n",
       "      <th>authorUserAgent</th>\n",
       "      <th>authorRegion</th>\n",
       "      <th>authorCountry</th>\n",
       "      <th>contentType</th>\n",
       "      <th>url</th>\n",
       "      <th>title</th>\n",
       "      <th>text</th>\n",
       "      <th>lang</th>\n",
       "      <th>timestamp_y</th>\n",
       "      <th>eventType_y</th>\n",
       "      <th>personId</th>\n",
       "      <th>sessionId</th>\n",
       "      <th>userAgent</th>\n",
       "      <th>userRegion</th>\n",
       "      <th>userCountry</th>\n",
       "    </tr>\n",
       "  </thead>\n",
       "  <tbody>\n",
       "    <tr>\n",
       "      <th>0</th>\n",
       "      <td>1459192779</td>\n",
       "      <td>CONTENT REMOVED</td>\n",
       "      <td>-6451309518266745024</td>\n",
       "      <td>4340306774493623681</td>\n",
       "      <td>8940341205206233829</td>\n",
       "      <td>NaN</td>\n",
       "      <td>NaN</td>\n",
       "      <td>NaN</td>\n",
       "      <td>HTML</td>\n",
       "      <td>http://www.nytimes.com/2016/03/28/business/dea...</td>\n",
       "      <td>Ethereum, a Virtual Currency, Enables Transact...</td>\n",
       "      <td>All of this work is still very early. The firs...</td>\n",
       "      <td>en</td>\n",
       "      <td>1459192561</td>\n",
       "      <td>VIEW</td>\n",
       "      <td>4340306774493623681</td>\n",
       "      <td>8940341205206233829</td>\n",
       "      <td>Mozilla/5.0 (Macintosh; Intel Mac OS X 10_10_5...</td>\n",
       "      <td>SP</td>\n",
       "      <td>BR</td>\n",
       "    </tr>\n",
       "    <tr>\n",
       "      <th>1</th>\n",
       "      <td>1459192779</td>\n",
       "      <td>CONTENT REMOVED</td>\n",
       "      <td>-6451309518266745024</td>\n",
       "      <td>4340306774493623681</td>\n",
       "      <td>8940341205206233829</td>\n",
       "      <td>NaN</td>\n",
       "      <td>NaN</td>\n",
       "      <td>NaN</td>\n",
       "      <td>HTML</td>\n",
       "      <td>http://www.nytimes.com/2016/03/28/business/dea...</td>\n",
       "      <td>Ethereum, a Virtual Currency, Enables Transact...</td>\n",
       "      <td>All of this work is still very early. The firs...</td>\n",
       "      <td>en</td>\n",
       "      <td>1459192667</td>\n",
       "      <td>VIEW</td>\n",
       "      <td>4340306774493623681</td>\n",
       "      <td>8940341205206233829</td>\n",
       "      <td>Mozilla/5.0 (Macintosh; Intel Mac OS X 10_10_5...</td>\n",
       "      <td>SP</td>\n",
       "      <td>BR</td>\n",
       "    </tr>\n",
       "    <tr>\n",
       "      <th>2</th>\n",
       "      <td>1459192779</td>\n",
       "      <td>CONTENT REMOVED</td>\n",
       "      <td>-6451309518266745024</td>\n",
       "      <td>4340306774493623681</td>\n",
       "      <td>8940341205206233829</td>\n",
       "      <td>NaN</td>\n",
       "      <td>NaN</td>\n",
       "      <td>NaN</td>\n",
       "      <td>HTML</td>\n",
       "      <td>http://www.nytimes.com/2016/03/28/business/dea...</td>\n",
       "      <td>Ethereum, a Virtual Currency, Enables Transact...</td>\n",
       "      <td>All of this work is still very early. The firs...</td>\n",
       "      <td>en</td>\n",
       "      <td>1459164960</td>\n",
       "      <td>VIEW</td>\n",
       "      <td>-1578287561410088674</td>\n",
       "      <td>2811329017818501696</td>\n",
       "      <td>Mozilla/5.0 (Macintosh; Intel Mac OS X 10_11_4...</td>\n",
       "      <td>SP</td>\n",
       "      <td>BR</td>\n",
       "    </tr>\n",
       "    <tr>\n",
       "      <th>3</th>\n",
       "      <td>1459193988</td>\n",
       "      <td>CONTENT SHARED</td>\n",
       "      <td>-4110354420726924665</td>\n",
       "      <td>4340306774493623681</td>\n",
       "      <td>8940341205206233829</td>\n",
       "      <td>NaN</td>\n",
       "      <td>NaN</td>\n",
       "      <td>NaN</td>\n",
       "      <td>HTML</td>\n",
       "      <td>http://www.nytimes.com/2016/03/28/business/dea...</td>\n",
       "      <td>Ethereum, a Virtual Currency, Enables Transact...</td>\n",
       "      <td>All of this work is still very early. The firs...</td>\n",
       "      <td>en</td>\n",
       "      <td>1459270471</td>\n",
       "      <td>VIEW</td>\n",
       "      <td>2873028073541627603</td>\n",
       "      <td>-3228450896145227905</td>\n",
       "      <td>Mozilla/5.0 (Windows NT 6.1; WOW64) AppleWebKi...</td>\n",
       "      <td>SP</td>\n",
       "      <td>BR</td>\n",
       "    </tr>\n",
       "    <tr>\n",
       "      <th>4</th>\n",
       "      <td>1459194146</td>\n",
       "      <td>CONTENT SHARED</td>\n",
       "      <td>-7292285110016212249</td>\n",
       "      <td>4340306774493623681</td>\n",
       "      <td>8940341205206233829</td>\n",
       "      <td>NaN</td>\n",
       "      <td>NaN</td>\n",
       "      <td>NaN</td>\n",
       "      <td>HTML</td>\n",
       "      <td>http://cointelegraph.com/news/bitcoin-future-w...</td>\n",
       "      <td>Bitcoin Future: When GBPcoin of Branson Wins O...</td>\n",
       "      <td>The alarm clock wakes me at 8:00 with stream o...</td>\n",
       "      <td>en</td>\n",
       "      <td>1459539433</td>\n",
       "      <td>VIEW</td>\n",
       "      <td>8414731042150985013</td>\n",
       "      <td>4543899740167763020</td>\n",
       "      <td>Mozilla/5.0 (Macintosh; Intel Mac OS X 10_11_4...</td>\n",
       "      <td>MG</td>\n",
       "      <td>BR</td>\n",
       "    </tr>\n",
       "  </tbody>\n",
       "</table>\n",
       "</div>"
      ],
      "text/plain": [
       "   timestamp_x      eventType_x            contentId       authorPersonId  \\\n",
       "0   1459192779  CONTENT REMOVED -6451309518266745024  4340306774493623681   \n",
       "1   1459192779  CONTENT REMOVED -6451309518266745024  4340306774493623681   \n",
       "2   1459192779  CONTENT REMOVED -6451309518266745024  4340306774493623681   \n",
       "3   1459193988   CONTENT SHARED -4110354420726924665  4340306774493623681   \n",
       "4   1459194146   CONTENT SHARED -7292285110016212249  4340306774493623681   \n",
       "\n",
       "       authorSessionId authorUserAgent authorRegion authorCountry contentType  \\\n",
       "0  8940341205206233829             NaN          NaN           NaN        HTML   \n",
       "1  8940341205206233829             NaN          NaN           NaN        HTML   \n",
       "2  8940341205206233829             NaN          NaN           NaN        HTML   \n",
       "3  8940341205206233829             NaN          NaN           NaN        HTML   \n",
       "4  8940341205206233829             NaN          NaN           NaN        HTML   \n",
       "\n",
       "                                                 url  \\\n",
       "0  http://www.nytimes.com/2016/03/28/business/dea...   \n",
       "1  http://www.nytimes.com/2016/03/28/business/dea...   \n",
       "2  http://www.nytimes.com/2016/03/28/business/dea...   \n",
       "3  http://www.nytimes.com/2016/03/28/business/dea...   \n",
       "4  http://cointelegraph.com/news/bitcoin-future-w...   \n",
       "\n",
       "                                               title  \\\n",
       "0  Ethereum, a Virtual Currency, Enables Transact...   \n",
       "1  Ethereum, a Virtual Currency, Enables Transact...   \n",
       "2  Ethereum, a Virtual Currency, Enables Transact...   \n",
       "3  Ethereum, a Virtual Currency, Enables Transact...   \n",
       "4  Bitcoin Future: When GBPcoin of Branson Wins O...   \n",
       "\n",
       "                                                text lang  timestamp_y  \\\n",
       "0  All of this work is still very early. The firs...   en   1459192561   \n",
       "1  All of this work is still very early. The firs...   en   1459192667   \n",
       "2  All of this work is still very early. The firs...   en   1459164960   \n",
       "3  All of this work is still very early. The firs...   en   1459270471   \n",
       "4  The alarm clock wakes me at 8:00 with stream o...   en   1459539433   \n",
       "\n",
       "  eventType_y             personId            sessionId  \\\n",
       "0        VIEW  4340306774493623681  8940341205206233829   \n",
       "1        VIEW  4340306774493623681  8940341205206233829   \n",
       "2        VIEW -1578287561410088674  2811329017818501696   \n",
       "3        VIEW  2873028073541627603 -3228450896145227905   \n",
       "4        VIEW  8414731042150985013  4543899740167763020   \n",
       "\n",
       "                                           userAgent userRegion userCountry  \n",
       "0  Mozilla/5.0 (Macintosh; Intel Mac OS X 10_10_5...         SP          BR  \n",
       "1  Mozilla/5.0 (Macintosh; Intel Mac OS X 10_10_5...         SP          BR  \n",
       "2  Mozilla/5.0 (Macintosh; Intel Mac OS X 10_11_4...         SP          BR  \n",
       "3  Mozilla/5.0 (Windows NT 6.1; WOW64) AppleWebKi...         SP          BR  \n",
       "4  Mozilla/5.0 (Macintosh; Intel Mac OS X 10_11_4...         MG          BR  "
      ]
     },
     "execution_count": 9,
     "metadata": {},
     "output_type": "execute_result"
    }
   ],
   "source": [
    "df_triple = pd.merge(df_article, df_user, on='contentId', how='inner')\n",
    "df_triple.head()"
   ]
  },
  {
   "cell_type": "code",
   "execution_count": null,
   "metadata": {},
   "outputs": [
    {
     "data": {
      "text/plain": [
       "<Axes: xlabel='eventType_y', ylabel='Count'>"
      ]
     },
     "execution_count": 13,
     "metadata": {},
     "output_type": "execute_result"
    },
    {
     "data": {
      "image/png": "[encoded data removed]",
      "text/plain": [
       "<Figure size 640x480 with 1 Axes>"
      ]
     },
     "metadata": {},
     "output_type": "display_data"
    }
   ],
   "source": [
    "import seaborn as sns\n",
    "import matplotlib.pyplot as plt\n",
    "\n",
    "sns.histplot(data=df_triple, x='eventType_y', kde=True)"
   ]
  },
  {
   "cell_type": "code",
   "execution_count": 16,
   "metadata": {},
   "outputs": [
    {
     "name": "stdout",
     "output_type": "stream",
     "text": [
      "Number of posts: 72680\n",
      "Number of unique types: 5\n",
      "Number of unique users: 252\n",
      "Average post interaction per user: 288.41\n",
      "Average posts per type: 14536.0\n"
     ]
    }
   ],
   "source": [
    "n_posts = len(df_triple)\n",
    "n_type = len(df_triple['eventType_y'].unique())\n",
    "n_users = len(df_triple['authorPersonId'].unique())\n",
    "\n",
    "print(f\"Number of posts: {n_posts}\")\n",
    "print(f\"Number of unique types: {n_type}\")\n",
    "print(f\"Number of unique users: {n_users}\")\n",
    "print(f\"Average post interaction per user: {round(n_posts/n_users, 2)}\")\n",
    "print(f\"Average posts per type: {round(n_posts/n_type, 2)}\")"
   ]
  },
  {
   "cell_type": "code",
   "execution_count": 23,
   "metadata": {},
   "outputs": [
    {
     "name": "stdout",
     "output_type": "stream",
     "text": [
      "Model saved to ./CVS/recommender_model.sav\n"
     ]
    }
   ],
   "source": [
    "import pandas as pd\n",
    "from sklearn.neighbors import NearestNeighbors\n",
    "import pickle\n",
    "\n",
    "# Load the dataset\n",
    "file_path = 'CVS/users_interactions.csv'  # Update with your actual file path\n",
    "df = pd.read_csv(file_path)\n",
    "\n",
    "# Map event types to numeric ratings\n",
    "event_type_mapping = {\n",
    "    \"VIEW\": 1,\n",
    "    \"LIKE\": 2,\n",
    "    \"FOLLOW\": 3,\n",
    "    \"BOOKMARK\": 4,\n",
    "    \"COMMENT CREATED\": 5\n",
    "}\n",
    "df['rating'] = df['eventType'].map(event_type_mapping)\n",
    "\n",
    "# Create a user-item interaction matrix\n",
    "interaction_matrix = df.pivot_table(index='personId', columns='contentId', values='rating', fill_value=0)\n",
    "\n",
    "# Fit the NearestNeighbors model\n",
    "model = NearestNeighbors(metric='cosine', algorithm='brute')\n",
    "model.fit(interaction_matrix)\n",
    "\n",
    "# Save the trained model and interaction matrix\n",
    "model_file = './CVS/recommender_model.sav'\n",
    "with open(model_file, 'wb') as f:\n",
    "    pickle.dump({'model': model, 'interaction_matrix': interaction_matrix}, f)\n",
    "\n",
    "print(f\"Model saved to {model_file}\")"
   ]
  },
  {
   "cell_type": "code",
   "execution_count": 24,
   "metadata": {},
   "outputs": [
    {
     "name": "stdout",
     "output_type": "stream",
     "text": [
      "Interaction matrix created with shape: (1895, 2987)\n",
      "NearestNeighbors model trained successfully.\n",
      "Model and interaction matrix saved to ./CVS/recommender_model.sav\n"
     ]
    }
   ],
   "source": [
    "import pandas as pd\n",
    "from sklearn.neighbors import NearestNeighbors\n",
    "import pickle\n",
    "\n",
    "# Load the dataset\n",
    "file_path = 'CVS/users_interactions.csv'  # Update with your actual file path\n",
    "df = pd.read_csv(file_path)\n",
    "\n",
    "# Map event types to numeric ratings\n",
    "event_type_mapping = {\n",
    "    \"VIEW\": 1,\n",
    "    \"LIKE\": 2,\n",
    "    \"FOLLOW\": 3,\n",
    "    \"BOOKMARK\": 4,\n",
    "    \"COMMENT CREATED\": 5\n",
    "}\n",
    "df['rating'] = df['eventType'].map(event_type_mapping)\n",
    "\n",
    "# Create a user-item interaction matrix\n",
    "interaction_matrix = df.pivot_table(index='personId', columns='contentId', values='rating', fill_value=0)\n",
    "print(f\"Interaction matrix created with shape: {interaction_matrix.shape}\")\n",
    "\n",
    "# Fit the NearestNeighbors model\n",
    "model = NearestNeighbors(metric='cosine', algorithm='brute')\n",
    "model.fit(interaction_matrix)\n",
    "print(\"NearestNeighbors model trained successfully.\")\n",
    "\n",
    "# Save the trained model and interaction matrix\n",
    "model_file = './CVS/recommender_model.sav'\n",
    "with open(model_file, 'wb') as f:\n",
    "    pickle.dump({'model': model, 'interaction_matrix': interaction_matrix}, f)\n",
    "\n",
    "print(f\"Model and interaction matrix saved to {model_file}\")"
   ]
  },
  {
   "cell_type": "code",
   "execution_count": 25,
   "metadata": {},
   "outputs": [
    {
     "name": "stdout",
     "output_type": "stream",
     "text": [
      "Sample user index: 0\n",
      "Nearest neighbors (user indices): [   0  708 1071  307 1419]\n",
      "Distances to nearest neighbors: [0.         0.70690041 0.76951207 0.78625885 0.79000459]\n",
      "Nearest neighbors (user IDs): [-9223121837663643404, -2376088187709738156, 1202287501580555390, -6150302542037419158, 4568163094592867577]\n"
     ]
    }
   ],
   "source": [
    "import numpy as np\n",
    "\n",
    "# Load the saved model and interaction matrix\n",
    "model_file = './CVS/recommender_model.sav'\n",
    "with open(model_file, 'rb') as f:\n",
    "    saved_data = pickle.load(f)\n",
    "\n",
    "model = saved_data['model']\n",
    "interaction_matrix = saved_data['interaction_matrix']\n",
    "\n",
    "# Select a sample user (e.g., the first user in the interaction matrix)\n",
    "sample_user_index = 0  # Change this to test with different users\n",
    "sample_user_vector = interaction_matrix.iloc[sample_user_index].values.reshape(1, -1)\n",
    "\n",
    "# Find the 5 nearest neighbors (most similar users)\n",
    "distances, indices = model.kneighbors(sample_user_vector, n_neighbors=5)\n",
    "\n",
    "# Print the results\n",
    "print(f\"Sample user index: {sample_user_index}\")\n",
    "print(\"Nearest neighbors (user indices):\", indices.flatten())\n",
    "print(\"Distances to nearest neighbors:\", distances.flatten())\n",
    "\n",
    "# Optionally, map the indices back to user IDs\n",
    "user_ids = interaction_matrix.index\n",
    "nearest_user_ids = user_ids[indices.flatten()]\n",
    "print(\"Nearest neighbors (user IDs):\", nearest_user_ids.tolist())"
   ]
  }
 ],
 "metadata": {
  "kernelspec": {
   "display_name": "base",
   "language": "python",
   "name": "python3"
  },
  "language_info": {
   "codemirror_mode": {
    "name": "ipython",
    "version": 3
   },
   "file_extension": ".py",
   "mimetype": "text/x-python",
   "name": "python",
   "nbconvert_exporter": "python",
   "pygments_lexer": "ipython3",
   "version": "3.12.4"
  }
 },
 "nbformat": 4,
 "nbformat_minor": 2
}
